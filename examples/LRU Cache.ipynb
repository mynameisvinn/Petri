{
 "cells": [
  {
   "cell_type": "code",
   "execution_count": null,
   "metadata": {},
   "outputs": [],
   "source": [
    "import random\n",
    "\n",
    "import numpy as np\n",
    "\n",
    "from Petri.utils import _return_all_neighboring_locs, _draw, _return_neighboring_unoccupied_locs, _move, _return_neighboring_occupied_locs, _find_connected_components, _sample, _return_random_loc, summarize\n",
    "from Petri.actions import _scatter, _replicate\n",
    "from Petri.simulator import simulator\n",
    "from Petri.elements import Data, Res"
   ]
  },
  {
   "cell_type": "code",
   "execution_count": null,
   "metadata": {},
   "outputs": [],
   "source": [
    "def Dreg(curr_loc, env):\n",
    "    \n",
    "    # do something to a neighbor slot\n",
    "    neighboring_locs = _return_all_neighboring_locs(curr_loc, env)\n",
    "    neighbor = random.choice(neighboring_locs)\n",
    "\n",
    "    if neighbor not in env.keys():\n",
    "        if _draw(.1):  # create res with 30% chance\n",
    "            env[neighbor] = (\"Res\", None)\n",
    "        elif _draw(.01):  # or create a new dreg with 1% chance\n",
    "            env[neighbor] = (\"Dreg\", None)\n",
    "        else:\n",
    "            pass\n",
    "    \n",
    "    # if dreg is next to a occupied slot, randomly destroy neighborhood\n",
    "    else:\n",
    "        if _draw(.2):\n",
    "            neighbors = _return_neighboring_occupied_locs(curr_loc, env)\n",
    "            for neighbor in neighbors:\n",
    "                env.pop(neighbor)\n",
    "\n",
    "    # move to an unoccupied slot (or stay put if there are no unoccupied slots)\n",
    "    curr_loc, env = _scatter(curr_loc, env)\n",
    "\n",
    "\n",
    "def Sorter(curr_loc, env):\n",
    "    # step 0 - replicate\n",
    "    _replicate(curr_loc, env)\n",
    "    \n",
    "    # step 1 - if theres data, move it left or right of the channel\n",
    "    neighbors = _return_neighboring_occupied_locs(curr_loc, env)\n",
    "    if neighbors:\n",
    "        for neighbor in neighbors:\n",
    "            if env[neighbor][0] == \"Data\":  # data has id 8\n",
    "                \n",
    "                # cache hit, so move data left\n",
    "                if env[neighbor][1] == env[curr_loc][1]:\n",
    "                    data_element = env[neighbor]\n",
    "                    next_loc = (neighbor[0], neighbor[1] - 5)\n",
    "                    _move(neighbor, next_loc, data_element, env)\n",
    "                    \n",
    "                    # cache hit so infect neighboring sorters\n",
    "                    neighbors = _return_neighboring_occupied_locs(curr_loc, env)\n",
    "                    if neighbors:\n",
    "                        for neighbor in neighbors:\n",
    "                            if env[neighbor][0] == \"Sorter\":\n",
    "                                env[neighbor] = env[curr_loc]\n",
    "                                \n",
    "                else:\n",
    "                    data_element = env[neighbor]\n",
    "                    next_loc = (neighbor[0], neighbor[1] + 5)\n",
    "                    _move(neighbor, next_loc, data_element, env)\n",
    "                    \n",
    "                                \n",
    "    # step 3 scatter\n",
    "    _scatter(curr_loc, env)\n",
    "\n",
    "\n",
    "def Query(curr_loc, env):\n",
    "    arr = env[curr_loc][1]\n",
    "    request = np.random.choice(arr, p=[0.6, 0.25, 0.1, 0.05])\n",
    "    \n",
    "    # broadcast to sorters\n",
    "    neighbors = _return_neighboring_occupied_locs(curr_loc, env)\n",
    "    if neighbors:\n",
    "        for neighbor in neighbors:\n",
    "            if env[neighbor][0] == \"Sorter\":  # sorters is id5\n",
    "                env[neighbor] = (\"Sorter\", request)\n",
    "                \n",
    "    # scatter\n",
    "    curr_loc, env = _scatter(curr_loc, env)"
   ]
  },
  {
   "cell_type": "code",
   "execution_count": null,
   "metadata": {},
   "outputs": [],
   "source": [
    "def create_LRU(n_rows, n_cols, n_query, n_dregs, n_sorters, arr):\n",
    "    world = {}\n",
    "    world['n_rows'] = n_rows\n",
    "    world['n_cols'] = n_cols\n",
    "            \n",
    "    # create dregs (represented by id 1)\n",
    "    for _ in range(n_dregs):\n",
    "        loc = _return_random_loc(n_rows, n_cols)\n",
    "        world[loc] = (\"Dreg\", None)\n",
    "        \n",
    "    # create sorter (represented by id 5)\n",
    "    for _ in range(n_sorters):\n",
    "        loc = _return_random_loc(n_rows, n_cols)\n",
    "        val = np.random.choice(arr)\n",
    "        world[loc] = (\"Sorter\", val)\n",
    "    \n",
    "    # create data (represented by id 8)\n",
    "    for _ in range(30):\n",
    "        for a in arr:\n",
    "            loc = _return_random_loc(n_rows, n_cols)\n",
    "            world[loc] = (\"Data\", a)\n",
    "        \n",
    "    # query is id 10\n",
    "    for _ in range(n_query): \n",
    "        loc = _return_random_loc(n_rows, n_cols)\n",
    "        world[loc] = (\"Query\", arr)\n",
    "        \n",
    "    return world"
   ]
  },
  {
   "cell_type": "code",
   "execution_count": null,
   "metadata": {},
   "outputs": [],
   "source": [
    "ARR = [\"A\", \"B\", \"C\", \"D\"]"
   ]
  },
  {
   "cell_type": "code",
   "execution_count": null,
   "metadata": {},
   "outputs": [],
   "source": [
    "loop = {\"Query\": Query, \"Data\": Data, \"Sorter\": Sorter, \"Dreg\": Dreg, \"Res\": Res}\n",
    "\n",
    "n_rows = 20\n",
    "n_cols = 60\n",
    "epochs = 100000\n",
    "ENV = create_LRU(n_rows=n_rows, n_cols=n_cols, n_query=50, n_dregs=5, n_sorters=20, arr=ARR)\n",
    "CANVASS = np.zeros((n_rows, n_cols))"
   ]
  },
  {
   "cell_type": "code",
   "execution_count": null,
   "metadata": {},
   "outputs": [],
   "source": [
    "simulator(ENV, CANVASS, epochs, loop, frames=100, save=True)"
   ]
  },
  {
   "cell_type": "code",
   "execution_count": null,
   "metadata": {},
   "outputs": [],
   "source": [
    "# we want data elements on the left side of the board\n",
    "\n",
    "keep = []\n",
    "for k in ENV.keys():\n",
    "    if isinstance(k, tuple):\n",
    "        if k[1] < 30 and ENV[k][0] == \"Data\":  # data is id8\n",
    "            keep.append(k)"
   ]
  },
  {
   "cell_type": "code",
   "execution_count": null,
   "metadata": {},
   "outputs": [],
   "source": [
    "counter = {}\n",
    "\n",
    "for k in keep:\n",
    "    element = ENV[k]\n",
    "    if element[1] not in counter.keys():\n",
    "        counter[element[1]] = 1\n",
    "    else:\n",
    "        counter[element[1]] += 1\n",
    "counter"
   ]
  },
  {
   "cell_type": "code",
   "execution_count": null,
   "metadata": {},
   "outputs": [],
   "source": []
  },
  {
   "cell_type": "code",
   "execution_count": null,
   "metadata": {},
   "outputs": [],
   "source": []
  }
 ],
 "metadata": {
  "kernelspec": {
   "display_name": "Python 3",
   "language": "python",
   "name": "python3"
  },
  "language_info": {
   "codemirror_mode": {
    "name": "ipython",
    "version": 3
   },
   "file_extension": ".py",
   "mimetype": "text/x-python",
   "name": "python",
   "nbconvert_exporter": "python",
   "pygments_lexer": "ipython3",
   "version": "3.7.7"
  }
 },
 "nbformat": 4,
 "nbformat_minor": 4
}
