{
 "cells": [
  {
   "cell_type": "code",
   "execution_count": null,
   "metadata": {},
   "outputs": [],
   "source": [
    "import random \n",
    "\n",
    "import numpy as np\n",
    "import matplotlib.pyplot as plt\n",
    "\n",
    "from Petri.initialize_world import create_oil_world\n",
    "from Petri.utils import update_canvass, _draw, summarize, _return_neighboring_occupied_locs, _return_neighboring_unoccupied_locs, _move\n",
    "from Petri.elements import Dreg, Res, Oil\n",
    "from Petri.simulator import simulator\n",
    "\n",
    "%matplotlib inline"
   ]
  },
  {
   "cell_type": "code",
   "execution_count": null,
   "metadata": {
    "scrolled": false
   },
   "outputs": [],
   "source": [
    "loop = {1: Dreg, 2: Res, 6: Oil}\n",
    "\n",
    "n_rows = 30\n",
    "n_cols = 30\n",
    "epochs = 30000\n",
    "\n",
    "ENV = create_oil_world(n_rows=n_rows, n_cols=n_cols, n_dregs=5, n_oil=10)\n",
    "CANVASS = np.zeros((n_rows, n_cols))"
   ]
  },
  {
   "cell_type": "code",
   "execution_count": null,
   "metadata": {},
   "outputs": [],
   "source": [
    "simulator(ENV, CANVASS, epochs, loop, frames=10)"
   ]
  },
  {
   "cell_type": "code",
   "execution_count": null,
   "metadata": {},
   "outputs": [],
   "source": []
  }
 ],
 "metadata": {
  "kernelspec": {
   "display_name": "Python 3",
   "language": "python",
   "name": "python3"
  },
  "language_info": {
   "codemirror_mode": {
    "name": "ipython",
    "version": 3
   },
   "file_extension": ".py",
   "mimetype": "text/x-python",
   "name": "python",
   "nbconvert_exporter": "python",
   "pygments_lexer": "ipython3",
   "version": "3.7.7"
  }
 },
 "nbformat": 4,
 "nbformat_minor": 4
}
