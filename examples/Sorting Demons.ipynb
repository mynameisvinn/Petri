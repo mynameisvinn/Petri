{
 "cells": [
  {
   "cell_type": "code",
   "execution_count": null,
   "metadata": {},
   "outputs": [],
   "source": [
    "import random \n",
    "\n",
    "import numpy as np\n",
    "import matplotlib.pyplot as plt\n",
    "\n",
    "from Petri.initialize_world import create_sorting_world\n",
    "from Petri.utils import summarize, take_first\n",
    "from Petri.elements import Dreg, Res, Sorter, Emitter, Data\n",
    "from Petri.simulator import simulator\n",
    "\n",
    "%matplotlib inline"
   ]
  },
  {
   "cell_type": "code",
   "execution_count": null,
   "metadata": {},
   "outputs": [],
   "source": [
    "loop = {1: Dreg, 2: Res, 3: Sorter, 4: Data, 5: Emitter}\n",
    "\n",
    "n_rows = 30\n",
    "n_cols = 60\n",
    "epochs = 200000\n",
    "\n",
    "ENV = create_sorting_world(n_rows=n_rows, n_cols=n_cols, n_dregs=10, n_sorters=5, n_emitters=10)\n",
    "CANVASS = np.zeros((n_rows, n_cols))"
   ]
  },
  {
   "cell_type": "code",
   "execution_count": null,
   "metadata": {
    "scrolled": false
   },
   "outputs": [],
   "source": [
    "simulator(ENV, CANVASS, epochs, loop, frames=10)"
   ]
  },
  {
   "cell_type": "code",
   "execution_count": null,
   "metadata": {},
   "outputs": [],
   "source": [
    "summarize(ENV)"
   ]
  },
  {
   "cell_type": "code",
   "execution_count": null,
   "metadata": {},
   "outputs": [],
   "source": [
    "# we want data elements on the left side of the board\n",
    "\n",
    "keep = []\n",
    "for k in ENV.keys():\n",
    "    if isinstance(k, tuple):\n",
    "        if k[1] < 20 and ENV[k][0] == 4:\n",
    "            keep.append(k)\n",
    "\n",
    "sorted_list = sorted(keep, key=take_first)\n",
    "\n",
    "ans = []\n",
    "for i in sorted_list:\n",
    "    ans.append(ENV[i][1])\n",
    "    \n",
    "plt.plot(ans)  # shuld be descending order"
   ]
  }
 ],
 "metadata": {
  "kernelspec": {
   "display_name": "Python 3",
   "language": "python",
   "name": "python3"
  },
  "language_info": {
   "codemirror_mode": {
    "name": "ipython",
    "version": 3
   },
   "file_extension": ".py",
   "mimetype": "text/x-python",
   "name": "python",
   "nbconvert_exporter": "python",
   "pygments_lexer": "ipython3",
   "version": "3.7.7"
  }
 },
 "nbformat": 4,
 "nbformat_minor": 4
}
