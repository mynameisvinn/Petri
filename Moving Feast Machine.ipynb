{
 "cells": [
  {
   "cell_type": "code",
   "execution_count": 282,
   "metadata": {},
   "outputs": [],
   "source": [
    "import numpy as np\n",
    "import matplotlib.pyplot as plt\n",
    "import random\n",
    "%matplotlib inline"
   ]
  },
  {
   "cell_type": "code",
   "execution_count": 314,
   "metadata": {},
   "outputs": [],
   "source": [
    "def update_canvass(v):\n",
    "    \"\"\"update numpy matrix given world.\n",
    "    \"\"\"\n",
    "    v[:] = 0\n",
    "    for i in range(N_ROWS):\n",
    "        for j in range(N_COLS):\n",
    "            loc = (i, j)\n",
    "            if loc in WORLD.keys():\n",
    "                v[i][j] = WORLD[loc][0]\n",
    "    return v\n",
    "\n",
    "def _draw(prob):\n",
    "    return np.random.uniform() > (1 - prob)\n",
    "\n",
    "def _summarize(w):\n",
    "    count = {}\n",
    "    for i, j in w.values():\n",
    "        if i not in count.keys():\n",
    "            count[i] = 1\n",
    "        else:\n",
    "            count[i] += 1\n",
    "    print(count)    \n",
    "    \n",
    "def take_first(elem):\n",
    "    return elem[0]\n",
    "\n",
    "\n",
    "def _return_random_loc():\n",
    "    i = random.choice(np.arange(N_ROWS))\n",
    "    j = random.choice(np.arange(N_COLS))\n",
    "    return (i, j)"
   ]
  },
  {
   "cell_type": "code",
   "execution_count": 284,
   "metadata": {},
   "outputs": [],
   "source": [
    "def _seek(loc):\n",
    "    \"\"\"returns a randomly selected valid move from loc.\n",
    "    \n",
    "    a loc is valid if it's in the board and an unoccupied slot.\n",
    "    \"\"\"\n",
    "    i = loc[0]\n",
    "    j = loc[1]\n",
    "    \n",
    "    # step 1 - make sure it's on the board\n",
    "    new_locs = [(min(i + 1, N_ROWS - 1), j), \n",
    "                (max(i - 1, 0), j), \n",
    "                (i, min(j + 1, N_COLS - 1)), \n",
    "                (i, max(j - 1, 0))]\n",
    "    \n",
    "    # step 2 - make sure the next loc is not occupied\n",
    "    new_locs = [loc for loc in new_locs if loc not in WORLD.keys()]\n",
    "    \n",
    "    # step 3 - if there are no unoccupied slots, then stay put\n",
    "    if new_locs:\n",
    "        return random.choice(new_locs)\n",
    "    return loc\n",
    "\n",
    "            \n",
    "def _move(curr_loc, next_loc, element):\n",
    "    \"\"\"move element from curr_loc to next_loc.\n",
    "    \"\"\"\n",
    "    if next_loc != curr_loc:\n",
    "        WORLD[next_loc] = element\n",
    "        WORLD.pop(curr_loc)\n",
    "        return True\n",
    "    return False\n",
    "\n",
    "def _return_neighboring_locs(curr_loc, dist):\n",
    "    \"\"\"return neighboring locs, occupied or unoccupied\n",
    "    \"\"\"\n",
    "    i = curr_loc[0]\n",
    "    j = curr_loc[1]\n",
    "    neighboring_locs = [(min(i + dist, N_ROWS - dist), j), \n",
    "                        (max(i - dist, 0), j), \n",
    "                        (i, min(j + dist, N_COLS - dist)), \n",
    "                        (i, max(j - dist, 0))]\n",
    "    # check that neighbor is not itself\n",
    "    neighboring_locs = [loc for loc in neighboring_locs if loc != curr_loc]\n",
    "    \n",
    "    return neighboring_locs\n",
    "\n",
    "def _sample():\n",
    "    return np.random.randint(0, 100)\n",
    "\n",
    "def _return_neighboring_occupied_locs(curr_loc):\n",
    "    \"\"\"return all locs that are occupied.\n",
    "    \"\"\"\n",
    "    neighboring_locs = _return_neighboring_locs(curr_loc, 1)\n",
    "    return [loc for loc in neighboring_locs if loc in WORLD.keys()]"
   ]
  },
  {
   "cell_type": "code",
   "execution_count": 374,
   "metadata": {},
   "outputs": [
    {
     "ename": "IndentationError",
     "evalue": "unindent does not match any outer indentation level (<tokenize>, line 88)",
     "output_type": "error",
     "traceback": [
      "\u001b[0;36m  File \u001b[0;32m\"<tokenize>\"\u001b[0;36m, line \u001b[0;32m88\u001b[0m\n\u001b[0;31m    if neighbor[1] > WORLD[curr_loc][1]:\u001b[0m\n\u001b[0m    ^\u001b[0m\n\u001b[0;31mIndentationError\u001b[0m\u001b[0;31m:\u001b[0m unindent does not match any outer indentation level\n"
     ]
    }
   ],
   "source": [
    "def update_dreg(curr_loc):\n",
    "    \n",
    "    # do something to a neighbor slot\n",
    "    next_loc = _seek(curr_loc)\n",
    "    \n",
    "    if _draw(.30):  # create res with 30% chance\n",
    "        WORLD[next_loc] = (2, None)\n",
    "    elif _draw(.01):  # or create a new dreg with 1% chance\n",
    "        WORLD[next_loc] = (1, None)\n",
    "    else:\n",
    "        pass\n",
    "    \n",
    "    # if dreg is next to a occupied slot, randomly destroy neighborhood\n",
    "    if _draw(.01):\n",
    "        neighbors = _return_neighboring_occupied_locs(curr_loc)\n",
    "        # print(\"curr is \", curr_loc, \"with neighbors\", neighbors)\n",
    "        if neighbors:\n",
    "            for loc in neighbors:\n",
    "                # print(\"popping\", loc)\n",
    "                WORLD.pop(loc)\n",
    "\n",
    "    # move to an unoccupied slot (or stay put if there are no unoccupied slots)\n",
    "    e = (1, None)\n",
    "    next_loc = _seek(curr_loc)\n",
    "    # print(\"curr loc is\", curr_loc, curr_loc in WORLD.keys())\n",
    "    _ = _move(curr_loc, next_loc, e)\n",
    "\n",
    "    \n",
    "def update_res(curr_loc):\n",
    "    \n",
    "    if np.random.uniform() < .3:\n",
    "        WORLD.pop(curr_loc)\n",
    "    else:\n",
    "        # move res to an unoccupied slot (or stay put if there are no unoccupied slots)\n",
    "        e = (2, None)\n",
    "        next_loc = _seek(curr_loc)\n",
    "        _ = _move(curr_loc, next_loc, e)\n",
    "        \n",
    "\n",
    "def update_data(curr_loc):\n",
    "    if _draw(.20):\n",
    "        e = (4, WORLD[curr_loc][1])\n",
    "        next_loc = _seek(curr_loc)\n",
    "        _ = _move(curr_loc, next_loc, e)\n",
    "    \n",
    "\n",
    "def update_emitter(curr_loc):\n",
    "    \"\"\"\n",
    "    emitter has an id of 5\n",
    "    \n",
    "    1) emit data in a neighboring free spot \n",
    "    2) then reproduce itself if there is a res, \n",
    "    3) no moving so it stays where it was created.\n",
    "    \"\"\"\n",
    "\n",
    "    # step 1 - if a neighbor is a res... turn it into data\n",
    "    \n",
    "    neighboring_locs = _return_neighboring_occupied_locs(curr_loc)\n",
    "    if neighboring_locs:\n",
    "        for neighbor in neighboring_locs:\n",
    "            if WORLD[neighbor][0] == 2:\n",
    "                WORLD[neighbor] = (4, _sample())\n",
    "                                \n",
    "                \n",
    "def update_sorter(curr_loc):\n",
    "    \"\"\"\n",
    "    In  this  version, Sorter has two primary functions. \n",
    "    \n",
    "    First, whenever it sees a Res, it transmutes it into another Sorter, and so \n",
    "    the Sorterpopulation  level  is indirectly  controlled  byDReg.\n",
    "    \n",
    "    Secondly,Sorter transports Datums from right to left when possible, and also up \n",
    "    or down based on the comparison of the Datum’svalue with a 32-bitthresholdstored \n",
    "    in theSorter. \n",
    "    \n",
    "    When aDatum‘crosses’ theSorterduring  a  move,  theSortercopies  theDatum’s  value  to  its  threshold\n",
    "    \"\"\"\n",
    "    right_loc = (curr_loc[0], curr_loc[1] + 1)\n",
    "    \n",
    "    # step 1 - move data... if theres something to its right\n",
    "    if right_loc in WORLD.keys():\n",
    "        neighbor = WORLD[right_loc]\n",
    "        \n",
    "        # we only want data elements...\n",
    "        if neighbor[0] == 4:\n",
    "                dist = 2\n",
    "            # move it if data is greater\n",
    "            if neighbor[1] > WORLD[curr_loc][1]:\n",
    "                \n",
    "                # move data up and the left\n",
    "\n",
    "                next_loc = (curr_loc[0] - dist, curr_loc[1] - dist)\n",
    "                WORLD[next_loc] = (4, neighbor[1])\n",
    "                WORLD.pop(right_loc)\n",
    "                \n",
    "                # sorter update its internal value\n",
    "                WORLD[curr_loc] = (3, neighbor[1])\n",
    "            \n",
    "            # if not... move data down left\n",
    "            else:\n",
    "                next_loc = (curr_loc[0] + dist, curr_loc[1] - dist)\n",
    "                WORLD[next_loc] = (4, neighbor[1])\n",
    "                WORLD.pop(right_loc)\n",
    "\n",
    "                \n",
    "                \n",
    "    # step 2 - if there is a neighboring res... turn it into a sorter\n",
    "    neighbors = _return_neighboring_occupied_locs(curr_loc)\n",
    "    if neighbors:\n",
    "        for neighbor in neighbors:\n",
    "            if WORLD[neighbor][0] == 2:\n",
    "                WORLD[neighbor] = (3, _sample())\n",
    "    \n",
    "    \n",
    "    # step 3 - move if one of its neighbors is a sorter\n",
    "    neighbors = _return_neighboring_occupied_locs(curr_loc)\n",
    "    if neighbors:\n",
    "        for neighbor in neighbors:\n",
    "            if WORLD[neighbor][0] == 3:\n",
    "                next_loc = _seek(curr_loc)\n",
    "                e = (3, WORLD[curr_loc][1])\n",
    "                _ = _move(curr_loc, next_loc, e)\n",
    "                break\n",
    "                \n",
    "    # step 4 - die if it's surrounded by too many sorters\n",
    "    count = 0\n",
    "    neighbors = _return_neighboring_occupied_locs(curr_loc)\n",
    "    if neighbors:\n",
    "        for neighbor in neighbors:\n",
    "            if WORLD[neighbor][0] == 3:\n",
    "                count += 1\n",
    "    if count > 3:\n",
    "        WORLD.pop(next_loc)  # it is a next_loc because it moved in step 3"
   ]
  },
  {
   "cell_type": "code",
   "execution_count": null,
   "metadata": {},
   "outputs": [],
   "source": [
    "# create the world\n",
    "def create_world():\n",
    "    world = {}\n",
    "    \n",
    "    # create dregs\n",
    "    for _ in range(5):\n",
    "        loc = _return_random_loc()\n",
    "        world[loc] = (1, None)\n",
    "        \n",
    "    # create sorter (represented by id 3)\n",
    "    for _ in range(5):\n",
    "        loc = _return_random_loc()\n",
    "        world[loc] = (3, _sample())\n",
    "        \n",
    "    \n",
    "    # create emitter (represented by 5)\n",
    "    for _ in range(15):\n",
    "        i = random.choice(np.arange(N_ROWS))\n",
    "        j = random.choice(np.arange(N_COLS - 10, N_COLS))\n",
    "        loc = (i, j)\n",
    "        world[loc] = (5, None)\n",
    "    return world"
   ]
  },
  {
   "cell_type": "code",
   "execution_count": null,
   "metadata": {},
   "outputs": [
    {
     "name": "stderr",
     "output_type": "stream",
     "text": [
      "/Users/vincenttang/anaconda3/lib/python3.7/site-packages/ipykernel_launcher.py:31: RuntimeWarning: More than 20 figures have been opened. Figures created through the pyplot interface (`matplotlib.pyplot.figure`) are retained until explicitly closed and may consume too much memory. (To control this warning, see the rcParam `figure.max_open_warning`).\n"
     ]
    }
   ],
   "source": [
    "N_ROWS = 30\n",
    "N_COLS = 60\n",
    "epochs = 500000\n",
    "\n",
    "WORLD = create_world()\n",
    "CANVASS = np.zeros((N_ROWS, N_COLS))\n",
    "\n",
    "for epoch in range(epochs):        \n",
    "    \n",
    "    # select a random element to update\n",
    "    loc = random.choice(list(WORLD.keys()))\n",
    "    element = WORLD[loc]\n",
    "    \n",
    "    element_id = element[0]\n",
    "    \n",
    "    if element_id == 1:  # dreg\n",
    "        update_dreg(loc)\n",
    "    elif element_id == 2:  # res\n",
    "        update_res(loc)\n",
    "    elif element_id == 3:  # sorter\n",
    "        update_sorter(loc)\n",
    "    elif element_id == 4:  # data\n",
    "        update_data(loc)\n",
    "    elif element_id == 5:  # emitter\n",
    "        update_emitter(loc)\n",
    "    else:\n",
    "        pass\n",
    "    \n",
    "    if epoch % (epochs / 50) == 0:\n",
    "        CANVASS = update_canvass(CANVASS)\n",
    "        plt.figure(figsize=(20,5))\n",
    "        plt.imshow(CANVASS, cmap='jet')\n",
    "        plt.colorbar(cmap='jet')"
   ]
  },
  {
   "cell_type": "code",
   "execution_count": 376,
   "metadata": {},
   "outputs": [
    {
     "name": "stdout",
     "output_type": "stream",
     "text": [
      "{5: 14, 3: 315, 4: 48, 1: 10, 2: 1}\n"
     ]
    }
   ],
   "source": [
    "_summarize(WORLD)"
   ]
  },
  {
   "cell_type": "code",
   "execution_count": 377,
   "metadata": {},
   "outputs": [],
   "source": [
    "# we want data elements on the left side of the board\n",
    "\n",
    "keep = []\n",
    "for k in WORLD.keys():\n",
    "    if k[1] < 20 and WORLD[k][0] == 4:\n",
    "        keep.append(k)\n",
    "# keep"
   ]
  },
  {
   "cell_type": "code",
   "execution_count": 378,
   "metadata": {},
   "outputs": [],
   "source": [
    "sorted_list = sorted(keep, key=take_first)"
   ]
  },
  {
   "cell_type": "code",
   "execution_count": 379,
   "metadata": {},
   "outputs": [
    {
     "data": {
      "text/plain": [
       "[<matplotlib.lines.Line2D at 0x7fab507f3190>]"
      ]
     },
     "execution_count": 379,
     "metadata": {},
     "output_type": "execute_result"
    },
    {
     "data": {
      "image/png": "[encoded data removed]",
      "text/plain": [
       "<Figure size 432x288 with 1 Axes>"
      ]
     },
     "metadata": {
      "needs_background": "light"
     },
     "output_type": "display_data"
    }
   ],
   "source": [
    "# shuld be descending order\n",
    "ans = []\n",
    "for i in sorted_list:\n",
    "    ans.append(WORLD[i][1])\n",
    "    \n",
    "plt.plot(ans)"
   ]
  },
  {
   "cell_type": "code",
   "execution_count": null,
   "metadata": {},
   "outputs": [],
   "source": []
  },
  {
   "cell_type": "code",
   "execution_count": null,
   "metadata": {},
   "outputs": [],
   "source": []
  },
  {
   "cell_type": "code",
   "execution_count": null,
   "metadata": {},
   "outputs": [],
   "source": []
  }
 ],
 "metadata": {
  "kernelspec": {
   "display_name": "Python 3",
   "language": "python",
   "name": "python3"
  },
  "language_info": {
   "codemirror_mode": {
    "name": "ipython",
    "version": 3
   },
   "file_extension": ".py",
   "mimetype": "text/x-python",
   "name": "python",
   "nbconvert_exporter": "python",
   "pygments_lexer": "ipython3",
   "version": "3.7.6"
  }
 },
 "nbformat": 4,
 "nbformat_minor": 4
}
