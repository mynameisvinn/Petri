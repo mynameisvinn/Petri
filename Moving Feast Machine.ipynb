{
 "cells": [
  {
   "cell_type": "code",
   "execution_count": 8,
   "metadata": {},
   "outputs": [],
   "source": [
    "import numpy as np\n",
    "import matplotlib.pyplot as plt\n",
    "import random\n",
    "%matplotlib inline\n",
    "\n",
    "N_ROWS = 5\n",
    "N_COLS = 5"
   ]
  },
  {
   "cell_type": "code",
   "execution_count": 9,
   "metadata": {},
   "outputs": [],
   "source": [
    "# create the world\n",
    "def create_world():\n",
    "\n",
    "    world = {}\n",
    "\n",
    "    for i in range(N_ROWS):\n",
    "        for j in range(N_COLS):\n",
    "            if np.random.uniform() < .1:\n",
    "                loc = (i, j)\n",
    "                world[loc] = Dreg(loc, 1)\n",
    "    return world"
   ]
  },
  {
   "cell_type": "code",
   "execution_count": 10,
   "metadata": {},
   "outputs": [],
   "source": [
    "class Base(object):\n",
    "    \n",
    "    def __init__(self, loc, val):\n",
    "        self.loc = loc\n",
    "        self.val = val\n",
    "        \n",
    "    def _update_loc(self, loc):\n",
    "        self.loc = loc\n",
    "        \n",
    "    def _seek(self):\n",
    "        \"\"\"return a valid neighboring loc.\n",
    "        \"\"\"\n",
    "        i = self.loc[0]\n",
    "        j = self.loc[1]\n",
    "        new_locs = [(min(i + 1, N_ROWS - 1), j), \n",
    "                   (max(i - 1, 0), j), \n",
    "                   (i, min(j + 1, N_COLS - 1)), \n",
    "                   (i, max(j - 1, 0))]\n",
    "        return random.choice(new_locs)\n",
    "    \n",
    "    def _move(self, old_loc, new_loc):\n",
    "        itself = world.pop(old_loc)\n",
    "        itself._update_loc(new_loc)\n",
    "        world[new_loc] = itself\n",
    "        \n",
    "    def touch(self):\n",
    "        raise NotImplementedError\n",
    "    \n",
    "\n",
    "class Dreg(Base):\n",
    "    def __init__(self, loc, val):\n",
    "        super(Dreg, self).__init__(loc, val)\n",
    "        \n",
    "        \n",
    "    def touch(self):        \n",
    "        \n",
    "        # On  eachupdate,DReg inspects  a  random  adjacent  site.  \n",
    "        # inspect neighbor and do something\n",
    "        next_loc = self._seek()\n",
    "        _ = self._action(next_loc)\n",
    "        \n",
    "        # move itself to a new location\n",
    "        next_loc = self._seek()\n",
    "        _ = self._move(self.loc, next_loc)\n",
    "    \n",
    "    \n",
    "    def _action(self, next_loc):\n",
    "        \"\"\"\n",
    "        If  the  site  isempty, DReg might create a general-purpose ‘resource’ atom (elementRes),  \n",
    "        or  rarely another DReg.\n",
    "        \"\"\"\n",
    "        if next_loc not in world.keys():\n",
    "            if np.random.uniform() < .5:\n",
    "                world[next_loc] = Res(next_loc, 10)\n",
    "            elif np.random.uniform() > .95:\n",
    "                world[next_loc] = Dreg(next_loc, 1)\n",
    "            else:\n",
    "                pass\n",
    "        \n",
    "        # if  it  is  occupied, DRegmight  erase  it,  particularly  if  it  is  another DReg\n",
    "        else:\n",
    "            if np.random.uniform() < .1:\n",
    "                _ = world.pop(next_loc)\n",
    "        \n",
    "        \n",
    "class Res(Base):\n",
    "    def __init__(self, loc, val):\n",
    "        super(Res, self).__init__(loc, val)\n",
    "\n",
    "    def touch(self):\n",
    "        pass"
   ]
  },
  {
   "cell_type": "code",
   "execution_count": 11,
   "metadata": {},
   "outputs": [],
   "source": [
    "def update_canvass(v):\n",
    "    v[:] = 0\n",
    "    \n",
    "    for i in range(N_ROWS):\n",
    "        for j in range(N_COLS):\n",
    "            loc = (i, j)\n",
    "            if loc in world.keys():\n",
    "                v[i][j] = world[loc].val\n",
    "    return v"
   ]
  },
  {
   "cell_type": "code",
   "execution_count": 12,
   "metadata": {},
   "outputs": [
    {
     "ename": "KeyError",
     "evalue": "(3, 0)",
     "output_type": "error",
     "traceback": [
      "\u001b[0;31m---------------------------------------------------------------------------\u001b[0m",
      "\u001b[0;31mKeyError\u001b[0m                                  Traceback (most recent call last)",
      "\u001b[0;32m<ipython-input-12-3a9ca2516835>\u001b[0m in \u001b[0;36m<module>\u001b[0;34m\u001b[0m\n\u001b[1;32m      4\u001b[0m \u001b[0;32mfor\u001b[0m \u001b[0mepoch\u001b[0m \u001b[0;32min\u001b[0m \u001b[0mrange\u001b[0m\u001b[0;34m(\u001b[0m\u001b[0;36m200\u001b[0m\u001b[0;34m)\u001b[0m\u001b[0;34m:\u001b[0m\u001b[0;34m\u001b[0m\u001b[0;34m\u001b[0m\u001b[0m\n\u001b[1;32m      5\u001b[0m     \u001b[0mselected_loc\u001b[0m \u001b[0;34m=\u001b[0m \u001b[0mrandom\u001b[0m\u001b[0;34m.\u001b[0m\u001b[0mchoice\u001b[0m\u001b[0;34m(\u001b[0m\u001b[0mlist\u001b[0m\u001b[0;34m(\u001b[0m\u001b[0mworld\u001b[0m\u001b[0;34m.\u001b[0m\u001b[0mkeys\u001b[0m\u001b[0;34m(\u001b[0m\u001b[0;34m)\u001b[0m\u001b[0;34m)\u001b[0m\u001b[0;34m)\u001b[0m\u001b[0;34m\u001b[0m\u001b[0;34m\u001b[0m\u001b[0m\n\u001b[0;32m----> 6\u001b[0;31m     \u001b[0mworld\u001b[0m\u001b[0;34m[\u001b[0m\u001b[0mselected_loc\u001b[0m\u001b[0;34m]\u001b[0m\u001b[0;34m.\u001b[0m\u001b[0mtouch\u001b[0m\u001b[0;34m(\u001b[0m\u001b[0;34m)\u001b[0m\u001b[0;34m\u001b[0m\u001b[0;34m\u001b[0m\u001b[0m\n\u001b[0m\u001b[1;32m      7\u001b[0m \u001b[0;34m\u001b[0m\u001b[0m\n\u001b[1;32m      8\u001b[0m     \u001b[0;32mif\u001b[0m \u001b[0mepoch\u001b[0m \u001b[0;34m%\u001b[0m \u001b[0;36m20\u001b[0m \u001b[0;34m==\u001b[0m \u001b[0;36m0\u001b[0m\u001b[0;34m:\u001b[0m\u001b[0;34m\u001b[0m\u001b[0;34m\u001b[0m\u001b[0m\n",
      "\u001b[0;32m<ipython-input-10-e9680b9c5b36>\u001b[0m in \u001b[0;36mtouch\u001b[0;34m(self)\u001b[0m\n\u001b[1;32m     42\u001b[0m         \u001b[0;31m# move itself to a new location\u001b[0m\u001b[0;34m\u001b[0m\u001b[0;34m\u001b[0m\u001b[0;34m\u001b[0m\u001b[0m\n\u001b[1;32m     43\u001b[0m         \u001b[0mnext_loc\u001b[0m \u001b[0;34m=\u001b[0m \u001b[0mself\u001b[0m\u001b[0;34m.\u001b[0m\u001b[0m_seek\u001b[0m\u001b[0;34m(\u001b[0m\u001b[0;34m)\u001b[0m\u001b[0;34m\u001b[0m\u001b[0;34m\u001b[0m\u001b[0m\n\u001b[0;32m---> 44\u001b[0;31m         \u001b[0m_\u001b[0m \u001b[0;34m=\u001b[0m \u001b[0mself\u001b[0m\u001b[0;34m.\u001b[0m\u001b[0m_move\u001b[0m\u001b[0;34m(\u001b[0m\u001b[0mself\u001b[0m\u001b[0;34m.\u001b[0m\u001b[0mloc\u001b[0m\u001b[0;34m,\u001b[0m \u001b[0mnext_loc\u001b[0m\u001b[0;34m)\u001b[0m\u001b[0;34m\u001b[0m\u001b[0;34m\u001b[0m\u001b[0m\n\u001b[0m\u001b[1;32m     45\u001b[0m \u001b[0;34m\u001b[0m\u001b[0m\n\u001b[1;32m     46\u001b[0m \u001b[0;34m\u001b[0m\u001b[0m\n",
      "\u001b[0;32m<ipython-input-10-e9680b9c5b36>\u001b[0m in \u001b[0;36m_move\u001b[0;34m(self, old_loc, new_loc)\u001b[0m\n\u001b[1;32m     20\u001b[0m \u001b[0;34m\u001b[0m\u001b[0m\n\u001b[1;32m     21\u001b[0m     \u001b[0;32mdef\u001b[0m \u001b[0m_move\u001b[0m\u001b[0;34m(\u001b[0m\u001b[0mself\u001b[0m\u001b[0;34m,\u001b[0m \u001b[0mold_loc\u001b[0m\u001b[0;34m,\u001b[0m \u001b[0mnew_loc\u001b[0m\u001b[0;34m)\u001b[0m\u001b[0;34m:\u001b[0m\u001b[0;34m\u001b[0m\u001b[0;34m\u001b[0m\u001b[0m\n\u001b[0;32m---> 22\u001b[0;31m         \u001b[0mitself\u001b[0m \u001b[0;34m=\u001b[0m \u001b[0mworld\u001b[0m\u001b[0;34m.\u001b[0m\u001b[0mpop\u001b[0m\u001b[0;34m(\u001b[0m\u001b[0mold_loc\u001b[0m\u001b[0;34m)\u001b[0m\u001b[0;34m\u001b[0m\u001b[0;34m\u001b[0m\u001b[0m\n\u001b[0m\u001b[1;32m     23\u001b[0m         \u001b[0mitself\u001b[0m\u001b[0;34m.\u001b[0m\u001b[0m_update_loc\u001b[0m\u001b[0;34m(\u001b[0m\u001b[0mnew_loc\u001b[0m\u001b[0;34m)\u001b[0m\u001b[0;34m\u001b[0m\u001b[0;34m\u001b[0m\u001b[0m\n\u001b[1;32m     24\u001b[0m         \u001b[0mworld\u001b[0m\u001b[0;34m[\u001b[0m\u001b[0mnew_loc\u001b[0m\u001b[0;34m]\u001b[0m \u001b[0;34m=\u001b[0m \u001b[0mitself\u001b[0m\u001b[0;34m\u001b[0m\u001b[0;34m\u001b[0m\u001b[0m\n",
      "\u001b[0;31mKeyError\u001b[0m: (3, 0)"
     ]
    }
   ],
   "source": [
    "world = create_world()\n",
    "canvass = np.zeros((N_ROWS, N_COLS))\n",
    "\n",
    "for epoch in range(200):\n",
    "    selected_loc = random.choice(list(world.keys()))\n",
    "    world[selected_loc].touch()\n",
    "    \n",
    "    if epoch % 20 == 0:\n",
    "        canvass = update_canvass(canvass)\n",
    "        # plt.figure(figsize=(5,2))\n",
    "        # plt.imshow(canvass)"
   ]
  },
  {
   "cell_type": "code",
   "execution_count": 13,
   "metadata": {},
   "outputs": [
    {
     "data": {
      "text/plain": [
       "dict_keys([(4, 2), (3, 2), (2, 3), (2, 4), (4, 1), (1, 0), (0, 1), (0, 3)])"
      ]
     },
     "execution_count": 13,
     "metadata": {},
     "output_type": "execute_result"
    }
   ],
   "source": [
    "world.keys()"
   ]
  },
  {
   "cell_type": "code",
   "execution_count": null,
   "metadata": {},
   "outputs": [],
   "source": []
  }
 ],
 "metadata": {
  "kernelspec": {
   "display_name": "Python 3",
   "language": "python",
   "name": "python3"
  },
  "language_info": {
   "codemirror_mode": {
    "name": "ipython",
    "version": 3
   },
   "file_extension": ".py",
   "mimetype": "text/x-python",
   "name": "python",
   "nbconvert_exporter": "python",
   "pygments_lexer": "ipython3",
   "version": "3.7.6"
  }
 },
 "nbformat": 4,
 "nbformat_minor": 4
}
